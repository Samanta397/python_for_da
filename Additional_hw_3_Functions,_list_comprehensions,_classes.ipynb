{
 "cells": [
  {
   "cell_type": "markdown",
   "id": "1846cdd5",
   "metadata": {
    "ExecuteTime": {
     "end_time": "2023-06-16T11:08:23.474987Z",
     "start_time": "2023-06-16T11:08:23.466341Z"
    },
    "id": "1846cdd5"
   },
   "source": [
    "В цьому наборі завдань попрацюємо з фукнціями, класами та list comprehensions.\n",
    "Нагадую синтаксис list comprehension\n",
    "- з умовою if:\n",
    "```\n",
    "newlist = [expression for item in iterable if condition == True]\n",
    "```\n",
    "\n",
    "- з умовою if...else:\n",
    "```\n",
    "newlist = [expression if condition == True else second_expression for item in iterable ]\n",
    "```"
   ]
  },
  {
   "cell_type": "markdown",
   "id": "306cbd4e",
   "metadata": {
    "ExecuteTime": {
     "end_time": "2023-06-15T10:01:54.759901Z",
     "start_time": "2023-06-15T10:01:54.754516Z"
    },
    "id": "306cbd4e"
   },
   "source": [
    "1.Задана функція `strange_func`.\n",
    "Запустіть цю функцію на обчислення всіх елементів зі списку `input_list`. Результат обчислень запишіть у `output_list` та виведіть `output_list` на екран.\n",
    "\n",
    "Реалізуйте прохід всіх елементів списку `input_list` через цикл та через `list comprehension` - двома способами окремо."
   ]
  },
  {
   "cell_type": "code",
   "execution_count": 8,
   "id": "b5bab760",
   "metadata": {
    "ExecuteTime": {
     "end_time": "2023-06-15T10:08:21.217301Z",
     "start_time": "2023-06-15T10:08:21.213956Z"
    },
    "id": "b5bab760"
   },
   "outputs": [],
   "source": [
    "def strange_func(number: int) -> str:\n",
    "    if number < 0:\n",
    "        return \"слон\"\n",
    "    else:\n",
    "        return \"жираф\""
   ]
  },
  {
   "cell_type": "code",
   "execution_count": 9,
   "id": "61d82a3e",
   "metadata": {
    "ExecuteTime": {
     "end_time": "2023-06-15T10:11:23.708950Z",
     "start_time": "2023-06-15T10:11:23.703596Z"
    },
    "id": "61d82a3e"
   },
   "outputs": [],
   "source": [
    "input_list = [14, -48, 26, 33, 50, 36, 47, -3, 32, -6, -39, -1, 14, -35, 31, -28, 32, 4, 33, 11, -7, 43, -5, 17, -33, -37, 45, -27, -29, 14]"
   ]
  },
  {
   "cell_type": "code",
   "execution_count": 10,
   "id": "8eb67fab",
   "metadata": {
    "id": "8eb67fab",
    "scrolled": true
   },
   "outputs": [
    {
     "name": "stdout",
     "output_type": "stream",
     "text": [
      "['жираф', 'слон', 'жираф', 'жираф', 'жираф', 'жираф', 'жираф', 'слон', 'жираф', 'слон', 'слон', 'слон', 'жираф', 'слон', 'жираф', 'слон', 'жираф', 'жираф', 'жираф', 'жираф', 'слон', 'жираф', 'слон', 'жираф', 'слон', 'слон', 'жираф', 'слон', 'слон', 'жираф']\n"
     ]
    }
   ],
   "source": [
    "output_list = []\n",
    "\n",
    "for item in input_list:\n",
    "    output_list.append(strange_func(item))\n",
    "\n",
    "print(output_list)"
   ]
  },
  {
   "cell_type": "code",
   "execution_count": 11,
   "id": "e13d8dcd-1a46-4a31-a336-a3d5b095c49a",
   "metadata": {},
   "outputs": [
    {
     "name": "stdout",
     "output_type": "stream",
     "text": [
      "['жираф', 'слон', 'жираф', 'жираф', 'жираф', 'жираф', 'жираф', 'слон', 'жираф', 'слон', 'слон', 'слон', 'жираф', 'слон', 'жираф', 'слон', 'жираф', 'жираф', 'жираф', 'жираф', 'слон', 'жираф', 'слон', 'жираф', 'слон', 'слон', 'жираф', 'слон', 'слон', 'жираф']\n"
     ]
    }
   ],
   "source": [
    "output_list = [strange_func(item) for item in input_list]\n",
    "print(output_list)"
   ]
  },
  {
   "cell_type": "markdown",
   "id": "39a81ffe",
   "metadata": {
    "ExecuteTime": {
     "end_time": "2023-06-15T10:11:44.344785Z",
     "start_time": "2023-06-15T10:11:44.338699Z"
    },
    "id": "39a81ffe"
   },
   "source": [
    "Очікуваний результат: ```['жираф', 'слон', 'жираф', 'жираф', 'жираф', 'жираф', 'жираф', 'слон', 'жираф', 'слон', 'слон', 'слон', 'жираф', 'слон', 'жираф', 'слон', 'жираф', 'жираф', 'жираф', 'жираф', 'слон', 'жираф', 'слон', 'жираф', 'слон', 'слон', 'жираф', 'слон', 'слон', 'жираф']```"
   ]
  },
  {
   "cell_type": "markdown",
   "id": "cd421b5b",
   "metadata": {
    "id": "cd421b5b"
   },
   "source": [
    "2.Напишіть функцію `custom_func`, яка приймає на вхід число, перевіряє, чи воно є цілочислельного типу, і якщо так, то перевіряє число на парність:\n",
    "- якщо парне - вертає це число в степені 3,\n",
    "- а якщо непарне - це число мінус 10.  \n",
    "\n",
    "Якщо ж число на вході не цілочисельного типу, функція вертає 0.  \n",
    "\n",
    "Запустіть цю функцію на обчислення всіх чисел зі списку `input_list`. Результат обчислень запишіть у `output_list` та виведіть `output_list` на екран.\n",
    "\n",
    "Реалізуйте прохід всіх чисел списку `input_list` через цикл та через `list comprehension` - двома способами окремо."
   ]
  },
  {
   "cell_type": "code",
   "execution_count": 12,
   "id": "384b00e0",
   "metadata": {
    "ExecuteTime": {
     "end_time": "2023-06-15T10:10:34.758320Z",
     "start_time": "2023-06-15T10:10:34.754358Z"
    },
    "id": "384b00e0"
   },
   "outputs": [],
   "source": [
    "input_list = [36, 11.1, 91, 93, 26, 12.3213, 69, 50, 58, 22, 77, 18, 24, 55, 11, 76, 10.111, 39, 49, 94, 34, 40, 13, 111.111, 26, 44, 11, 34, 30, 39, 84, 37, 16, 1]"
   ]
  },
  {
   "cell_type": "code",
   "execution_count": 13,
   "id": "a9220273",
   "metadata": {
    "id": "a9220273"
   },
   "outputs": [
    {
     "name": "stdout",
     "output_type": "stream",
     "text": [
      "[46656, 0, 81, 83, 17576, 0, 59, 125000, 195112, 10648, 67, 5832, 13824, 45, 1, 438976, 0, 29, 39, 830584, 39304, 64000, 3, 0, 17576, 85184, 1, 39304, 27000, 29, 592704, 27, 4096, -9]\n"
     ]
    }
   ],
   "source": [
    "def custom_func(num):\n",
    "    if isinstance(num, int):\n",
    "        if (num % 2 == 0):\n",
    "            return num ** 3\n",
    "        else:\n",
    "            return num - 10\n",
    "    else:\n",
    "        return 0\n",
    "\n",
    "\n",
    "output_list = [custom_func(item) for item in input_list]\n",
    "print(output_list)"
   ]
  },
  {
   "cell_type": "markdown",
   "id": "e2723875",
   "metadata": {
    "ExecuteTime": {
     "end_time": "2023-06-15T10:04:46.583145Z",
     "start_time": "2023-06-15T10:04:46.577899Z"
    },
    "id": "e2723875"
   },
   "source": [
    "Очікуваний результат:\n",
    "```[46656, 0, 81, 83, 17576, 0, 59, 125000, 195112, 10648, 67, 5832, 13824, 45, 1, 438976, 0, 29, 39, 830584, 39304, 64000, 3, 0, 17576, 85184, 1, 39304, 27000, 29, 592704, 27, 4096, -9]```"
   ]
  },
  {
   "cell_type": "markdown",
   "id": "12db4919",
   "metadata": {
    "ExecuteTime": {
     "end_time": "2023-06-15T10:06:39.204299Z",
     "start_time": "2023-06-15T10:06:39.198232Z"
    },
    "id": "12db4919"
   },
   "source": [
    "Аби програмно порівняти ваш результат за очікуваним - використайте код нижче:"
   ]
  },
  {
   "cell_type": "code",
   "execution_count": 14,
   "id": "84c13de2",
   "metadata": {
    "ExecuteTime": {
     "end_time": "2023-06-15T10:06:16.137271Z",
     "start_time": "2023-06-15T10:06:16.131305Z"
    },
    "id": "84c13de2"
   },
   "outputs": [
    {
     "data": {
      "text/plain": [
       "True"
      ]
     },
     "execution_count": 14,
     "metadata": {},
     "output_type": "execute_result"
    }
   ],
   "source": [
    "output_list == [46656, 0, 81, 83, 17576, 0, 59, 125000, 195112, 10648, 67, 5832, 13824, 45, 1, 438976, 0, 29, 39, 830584, 39304, 64000, 3, 0, 17576, 85184, 1, 39304, 27000, 29, 592704, 27, 4096, -9]"
   ]
  },
  {
   "cell_type": "markdown",
   "id": "602e8fd8",
   "metadata": {
    "ExecuteTime": {
     "end_time": "2023-06-15T09:50:40.693543Z",
     "start_time": "2023-06-15T09:50:40.680059Z"
    },
    "id": "602e8fd8"
   },
   "source": [
    "3.Напишіть функцію, яка отримує список чисел і повертає інший список із квадратами чисел, які діляться на 2 із вихідного списку. Наприклад, якщо на вході список [1,2,3,4], то на виході буде список [4,16].\n",
    "\n",
    "Запустіть функцію на вхідних списках `numbers_1`, `numbers_2`, `numbers_3` та виведіть результат роботи фукнції на екран."
   ]
  },
  {
   "cell_type": "code",
   "execution_count": 15,
   "id": "4ed96c9d",
   "metadata": {
    "ExecuteTime": {
     "end_time": "2023-06-15T10:17:52.021673Z",
     "start_time": "2023-06-15T10:17:52.016216Z"
    },
    "id": "4ed96c9d"
   },
   "outputs": [],
   "source": [
    "numbers_1 = [1, 2, 3, 4, 5, 6, 7, 8, 9, 10]\n",
    "numbers_2 = [-18, 35, 50, 2, -39, 8, -39, -15, 14, -42]\n",
    "numbers_3 = [-3.1, 1.11, 3.48, 4.48, 4.68, -1.59, -1.8, 1.76, 4.7, 2.0]"
   ]
  },
  {
   "cell_type": "code",
   "execution_count": 16,
   "id": "d8b1a5d7",
   "metadata": {
    "id": "d8b1a5d7"
   },
   "outputs": [
    {
     "name": "stdout",
     "output_type": "stream",
     "text": [
      "[4, 16, 36, 64, 100]\n",
      "[324, 2500, 4, 64, 196, 1764]\n",
      "[4.0]\n"
     ]
    }
   ],
   "source": [
    "def square_list(nums):\n",
    "    return [item ** 2 for item in nums  if item % 2 == 0]\n",
    "\n",
    "print(square_list(numbers_1))\n",
    "print(square_list(numbers_2))\n",
    "print(square_list(numbers_3))"
   ]
  },
  {
   "cell_type": "markdown",
   "id": "96fead27",
   "metadata": {
    "ExecuteTime": {
     "end_time": "2023-06-15T10:18:22.220464Z",
     "start_time": "2023-06-15T10:18:22.215833Z"
    },
    "id": "96fead27"
   },
   "source": [
    "Очікуваний результат:\n",
    "\n",
    "```\n",
    "    [4, 16, 36, 64, 100]\n",
    "    [324, 2500, 4, 64, 196, 1764]\n",
    "    [4.0]\n",
    "```"
   ]
  },
  {
   "cell_type": "markdown",
   "id": "93830499",
   "metadata": {
    "id": "93830499"
   },
   "source": [
    "4. Наданий список фруктів. Запишіть у новий список лише ті фрукти, які містять у своїй назві літеру `a`. Виведіть фінальний список на екран.\n",
    "\n",
    "Виконайте завдання із використанням циклу, та через `list comprehension` - двома способами окремо.  \n",
    "Увага! В цьому завданні логіку перевірки чи містить рядок літеру можна винести у функцію. Але якщо не виносити, то реалізація з `list comprehension` буде цікавішою :)"
   ]
  },
  {
   "cell_type": "code",
   "execution_count": 17,
   "id": "9d52d585",
   "metadata": {
    "ExecuteTime": {
     "end_time": "2023-06-16T11:04:38.519497Z",
     "start_time": "2023-06-16T11:04:38.489031Z"
    },
    "id": "9d52d585"
   },
   "outputs": [],
   "source": [
    "fruits = [\"apple\", \"banana\", \"cherry\", \"date\", \"elderberry\", \"fig\", \"grape\", \"honeydew\", \"indian prune\", \"jackfruit\", \"kiwi\", \"lemon\", \"mango\", \"nectarine\", \"orange\", \"pineapple\", \"quince\", \"raspberry\", \"strawberry\", \"tangerine\", \"ugli fruit\", \"victoria plum\", \"watermelon\", \"xigua\", \"yellow passionfruit\", \"zucchini\"]"
   ]
  },
  {
   "cell_type": "code",
   "execution_count": 18,
   "id": "e503441f",
   "metadata": {
    "id": "e503441f"
   },
   "outputs": [
    {
     "name": "stdout",
     "output_type": "stream",
     "text": [
      "['apple', 'banana', 'date', 'grape', 'indian prune', 'jackfruit', 'mango', 'nectarine', 'orange', 'pineapple', 'raspberry', 'strawberry', 'tangerine', 'victoria plum', 'watermelon', 'xigua', 'yellow passionfruit']\n"
     ]
    }
   ],
   "source": [
    "result = []\n",
    "for fruit in fruits:\n",
    "    if ('a' in fruit):\n",
    "        result.append(fruit)\n",
    "\n",
    "print(result)"
   ]
  },
  {
   "cell_type": "code",
   "execution_count": 19,
   "id": "1d199726-bfd3-43f3-83ad-80ced9e77b15",
   "metadata": {},
   "outputs": [
    {
     "name": "stdout",
     "output_type": "stream",
     "text": [
      "['apple', 'banana', 'date', 'grape', 'indian prune', 'jackfruit', 'mango', 'nectarine', 'orange', 'pineapple', 'raspberry', 'strawberry', 'tangerine', 'victoria plum', 'watermelon', 'xigua', 'yellow passionfruit']\n"
     ]
    }
   ],
   "source": [
    "fruits_with_a = [fruit for fruit in fruits if 'a' in fruit]\n",
    "print(fruits_with_a)"
   ]
  },
  {
   "cell_type": "markdown",
   "id": "6eba3ce5",
   "metadata": {
    "ExecuteTime": {
     "end_time": "2023-06-16T11:12:20.070099Z",
     "start_time": "2023-06-16T11:12:20.065489Z"
    },
    "id": "6eba3ce5"
   },
   "source": [
    "5.Заданий список чисел. Створіть новий список на основі заданоо за наступною логікою\n",
    "- якщо число більше або дорівнює 45, то в новий список додаємо це число + 5. Наприклад, для числа 50 вихідного списку, в новий ми додамо число 55\n",
    "- інакше - це число - 4. Наприклад, для числа 30 вихідного списку, в новий ми додамо число 26  \n",
    "\n",
    "Виведіть отриманий список на екран.\n",
    "\n",
    "Реалізуйте логіку через цикл та через `list comprehension` - двома способами окремо."
   ]
  },
  {
   "cell_type": "code",
   "execution_count": 20,
   "id": "64c30414",
   "metadata": {
    "ExecuteTime": {
     "end_time": "2023-06-16T11:13:01.047506Z",
     "start_time": "2023-06-16T11:13:01.044731Z"
    },
    "id": "64c30414"
   },
   "outputs": [],
   "source": [
    "input_list = [22, 13, 45, 50, 98, 69, 43, 44, 1]"
   ]
  },
  {
   "cell_type": "code",
   "execution_count": 21,
   "id": "ddd8cbca-0c98-40a3-87b6-b9997b79d2f1",
   "metadata": {},
   "outputs": [
    {
     "name": "stdout",
     "output_type": "stream",
     "text": [
      "[18, 9, 50, 55, 103, 74, 39, 40, -3]\n"
     ]
    }
   ],
   "source": [
    "result_list = []\n",
    "\n",
    "for num in input_list:\n",
    "    if (num >= 45):\n",
    "        result_list.append(num + 5)\n",
    "    else:\n",
    "        result_list.append(num - 4)\n",
    "\n",
    "print(result_list)"
   ]
  },
  {
   "cell_type": "code",
   "execution_count": 22,
   "id": "0e3a8bcd",
   "metadata": {
    "id": "0e3a8bcd"
   },
   "outputs": [
    {
     "name": "stdout",
     "output_type": "stream",
     "text": [
      "[18, 9, 50, 55, 103, 74, 39, 40, -3]\n"
     ]
    }
   ],
   "source": [
    "result_list = [num + 5 if num >= 45 else num - 4 for num in  input_list]\n",
    "print(result_list)"
   ]
  },
  {
   "cell_type": "markdown",
   "id": "3788acf1",
   "metadata": {
    "id": "3788acf1"
   },
   "source": [
    "6.Заданий список `input_list` з пропущеними значеннями. Напишіть логіку, за якою ми будемо створювати новий список такий, що якщо значення None, то ми замість нього вставляємо 0, інакше - елемент вихідного спику.\n",
    "Тобто зі списку [1, None, 2] за цією логікою ми отримаємо [1, 0, 2] у новому списку.\n",
    "\n",
    "Виведіть отриманий список на екран.\n",
    "\n",
    "Реалізуйте логіку через цикл та через list comprehension - двома способами окремо."
   ]
  },
  {
   "cell_type": "code",
   "execution_count": 23,
   "id": "7124a4c2",
   "metadata": {
    "ExecuteTime": {
     "end_time": "2023-06-16T11:17:59.925084Z",
     "start_time": "2023-06-16T11:17:59.922391Z"
    },
    "id": "7124a4c2"
   },
   "outputs": [],
   "source": [
    "input_list = [22, None, 13, None, None, 45, 50, 98, None, 69, 43, 44, 1, None]"
   ]
  },
  {
   "cell_type": "code",
   "execution_count": 24,
   "id": "e7212a8c",
   "metadata": {
    "id": "e7212a8c"
   },
   "outputs": [
    {
     "name": "stdout",
     "output_type": "stream",
     "text": [
      "[22, 0, 13, 0, 0, 45, 50, 98, 0, 69, 43, 44, 1, 0]\n"
     ]
    }
   ],
   "source": [
    "result_list = []\n",
    "\n",
    "for item in input_list:\n",
    "    if (item == None):\n",
    "        result_list.append(0)\n",
    "    else:\n",
    "        result_list.append(item)\n",
    "\n",
    "print(result_list)"
   ]
  },
  {
   "cell_type": "code",
   "execution_count": 25,
   "id": "2960c9b5-40fc-4e67-8aa1-bc7b8f2b4281",
   "metadata": {},
   "outputs": [
    {
     "name": "stdout",
     "output_type": "stream",
     "text": [
      "[22, 0, 13, 0, 0, 45, 50, 98, 0, 69, 43, 44, 1, 0]\n"
     ]
    }
   ],
   "source": [
    "result_list = [0 if item == None else item for item in  input_list]\n",
    "print(result_list)"
   ]
  },
  {
   "cell_type": "markdown",
   "id": "6d491849",
   "metadata": {
    "id": "6d491849"
   },
   "source": [
    "7.Заданий клас, який описує коло та вміє рахувати площу кола по заданому радіусу. Створіть два кола з радіусами 5 і 11. Обчислість з допомогою функціоналу класу площі цих двох кіл і виведіть результати на екран."
   ]
  },
  {
   "cell_type": "code",
   "execution_count": 26,
   "id": "fa5b47ac",
   "metadata": {
    "ExecuteTime": {
     "end_time": "2023-06-16T11:36:33.504851Z",
     "start_time": "2023-06-16T11:36:33.498537Z"
    },
    "id": "fa5b47ac"
   },
   "outputs": [],
   "source": [
    "import math\n",
    "\n",
    "class Circle:\n",
    "    def __init__(self, radius):\n",
    "        self.radius = radius\n",
    "\n",
    "    def calculate_area(self):\n",
    "        return round(math.pi * self.radius ** 2, 2)"
   ]
  },
  {
   "cell_type": "code",
   "execution_count": 27,
   "id": "2bcdc94a",
   "metadata": {
    "id": "2bcdc94a"
   },
   "outputs": [
    {
     "name": "stdout",
     "output_type": "stream",
     "text": [
      "78.54\n",
      "380.13\n"
     ]
    }
   ],
   "source": [
    "circle_5 = Circle(5)\n",
    "circle_11 = Circle(11)\n",
    "\n",
    "print(circle_5.calculate_area())\n",
    "print(circle_11.calculate_area())"
   ]
  },
  {
   "cell_type": "markdown",
   "id": "430f698b",
   "metadata": {
    "id": "430f698b"
   },
   "source": [
    "8.Додайте в клас `Circle`, визначений в попередньому завданні, метод для обчислення периметра `calculate_perimeter` з округленням до двох цифр після коми. Периметр кола рахується за формулою `C = 2 · π · r`, де π - це значення числа Пі, яке ми можемо отримати з math.pi, а r - радіус кола. Спопіюйте визначення класу і додайте в нього новий метод. Після цього створіть нові кола з радіусами 5 і 11 та обчисліть їх периметри.   \n",
    "Увага: нам треба додати новий метод, але ми нічого не видаляємо :)"
   ]
  },
  {
   "cell_type": "code",
   "execution_count": 28,
   "id": "731544fd",
   "metadata": {
    "id": "731544fd"
   },
   "outputs": [],
   "source": [
    "class Circle:\n",
    "    def __init__(self, radius):\n",
    "        self.radius = radius\n",
    "\n",
    "    def calculate_area(self):\n",
    "        return round(math.pi * self.radius ** 2, 2)\n",
    "\n",
    "    def calculate_perimeter(self):\n",
    "        return round(2 * math.pi * self.radius, 2)"
   ]
  },
  {
   "cell_type": "code",
   "execution_count": 29,
   "id": "338be472-ba18-4072-8b5a-68409f6cc11e",
   "metadata": {},
   "outputs": [
    {
     "name": "stdout",
     "output_type": "stream",
     "text": [
      "31.42\n",
      "69.12\n"
     ]
    }
   ],
   "source": [
    "circle_5 = Circle(5)\n",
    "circle_11 = Circle(11)\n",
    "\n",
    "print(circle_5.calculate_perimeter())\n",
    "print(circle_11.calculate_perimeter())"
   ]
  },
  {
   "cell_type": "markdown",
   "id": "4a39e47f",
   "metadata": {
    "id": "4a39e47f"
   },
   "source": [
    "9.Створіть клас під назвою `Student`, який має два атрибути: `name` (ім'я) та `grade` (оцінка). Оцінкою може були літера - з набору  [\"F\", \"D\", \"C\", \"B\", \"A\"], де \"А\" - найвища оцінка, \"F\" - найнижча.  Клас повинен мати наступні функціональні можливості:\n",
    "\n",
    "1. Метод `__init__`, який ініціалізує `name` та `grade`.\n",
    "2. Метод `display_student()`, який відображає ім'я та оцінку студента з допомогою `print`. Форматування - на Ваш розсуд.\n",
    "3. Метод `upgrade_grade()`, який підвищує оцінку на 1 рівень (наприклад, з \"B\" на \"A\"), якщо вона вже не \"A\". Якщо вже \"А\", то необхідно вивести повідомлення про те, що оцінка не може бути підвищена, оскільки вона вже і так найвища.\n",
    "\n",
    "Після створення класу, створіть 2 екземпляри `Student` з вигаданими імʼями та оцінками, і перевірте роботу методів `display_student()` та `upgrade_grade()`. Виведіть результат перевірки на екран."
   ]
  },
  {
   "cell_type": "code",
   "execution_count": 30,
   "id": "51ef0571",
   "metadata": {
    "id": "51ef0571"
   },
   "outputs": [
    {
     "name": "stdout",
     "output_type": "stream",
     "text": [
      "Student(name=Anna, grade=A)\n",
      "Grade cannot be upgraded further. It is already the highest ('A').\n",
      "Student(name=Kate, grade=D)\n",
      "Grade upgraded to C.\n",
      "Student(name=Kate, grade=C)\n"
     ]
    }
   ],
   "source": [
    "class Student:\n",
    "    GRADES = [\"F\", \"D\", \"C\", \"B\", \"A\"]\n",
    "    def __init__(self, name, grade):\n",
    "        self.name = name\n",
    "        if grade in self.GRADES:\n",
    "            self.grade = grade\n",
    "        else:\n",
    "            raise ValueError(\"Grade must be one of ['F', 'D', 'C', 'B', 'A']\")\n",
    "\n",
    "    def display_student(self):\n",
    "        print(f\"Student(name={self.name}, grade={self.grade})\")\n",
    "\n",
    "    def upgrade_grade(self):\n",
    "        current_index = self.GRADES.index(self.grade)\n",
    "        if current_index < len(self.GRADES) - 1:\n",
    "            self.grade = self.GRADES[current_index + 1]\n",
    "            print(f\"Grade upgraded to {self.grade}.\")\n",
    "        else:\n",
    "            print(\"Grade cannot be upgraded further. It is already the highest ('A').\")\n",
    "\n",
    "student_1  = Student(\"Anna\", \"A\")\n",
    "student_2 = Student(\"Kate\", \"D\")\n",
    "\n",
    "student_1.display_student()\n",
    "student_1.upgrade_grade()\n",
    "\n",
    "student_2.display_student()\n",
    "student_2.upgrade_grade()\n",
    "student_2.display_student()"
   ]
  },
  {
   "cell_type": "markdown",
   "id": "fbf61911",
   "metadata": {
    "id": "fbf61911"
   },
   "source": [
    "10.Створіть клас з назвою `GraduateStudent`, який є нащадком класу `Student` з попереднього завдання.\n",
    "Клас `GraduateStudent` повинен мати додатковий атрибут `thesis_title` (назва дисертації - тип str). Тобто цей атрибут має зʼявитись при ініціації екземпляру класу.  \n",
    "Він також повинен мати метод `display_thesis()`, який виводить назву дисертації.\n",
    "\n",
    "Після створення класу, створіть екземпляр `GraduateStudent` і перевірте роботу методів `display_student()`, `upgrade_grade()`, та `display_thesis()`. Виведіть результат перевірки на екран.\n",
    "\n"
   ]
  },
  {
   "cell_type": "code",
   "execution_count": 31,
   "id": "aafe9159",
   "metadata": {
    "id": "aafe9159"
   },
   "outputs": [
    {
     "name": "stdout",
     "output_type": "stream",
     "text": [
      "Student(name=Peter, grade=B)\n",
      "Grade upgraded to A.\n",
      "Thesis title: Peter's thesis\n"
     ]
    }
   ],
   "source": [
    "class GraduateStudent(Student):\n",
    "\n",
    "   def __init__(self, name, grade, thesis_title):\n",
    "        super().__init__(name, grade)\n",
    "        self.thesis_title = thesis_title\n",
    "\n",
    "   def display_thesis(self):\n",
    "        print(f\"Thesis title: {self.thesis_title}\")\n",
    "\n",
    "student_3 = GraduateStudent(\"Peter\",\"B\", \"Peter's thesis\")\n",
    "student_3.display_student()\n",
    "student_3.upgrade_grade()\n",
    "student_3.display_thesis()"
   ]
  }
 ],
 "metadata": {
  "colab": {
   "provenance": []
  },
  "kernelspec": {
   "display_name": "Python (tutorial-env)",
   "language": "python",
   "name": "tutorial-env"
  },
  "language_info": {
   "codemirror_mode": {
    "name": "ipython",
    "version": 3
   },
   "file_extension": ".py",
   "mimetype": "text/x-python",
   "name": "python",
   "nbconvert_exporter": "python",
   "pygments_lexer": "ipython3",
   "version": "3.8.10"
  },
  "toc": {
   "base_numbering": 1,
   "nav_menu": {},
   "number_sections": true,
   "sideBar": true,
   "skip_h1_title": false,
   "title_cell": "Table of Contents",
   "title_sidebar": "Contents",
   "toc_cell": false,
   "toc_position": {},
   "toc_section_display": true,
   "toc_window_display": false
  }
 },
 "nbformat": 4,
 "nbformat_minor": 5
}
