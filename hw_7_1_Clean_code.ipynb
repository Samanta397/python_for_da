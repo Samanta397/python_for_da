{
 "cells": [
  {
   "cell_type": "markdown",
   "id": "aed503f1",
   "metadata": {
    "ExecuteTime": {
     "end_time": "2023-07-27T20:14:32.871852Z",
     "start_time": "2023-07-27T20:14:31.036121Z"
    },
    "id": "aed503f1"
   },
   "source": [
    "У завданнях 1-4. Вам наданий простий код на Python, який не відповідає вказівкам PEP8. Ваше завдання — відредагувати код так, аби він відповідав PEP8. Напишіть після редагуванню коду, дотримання яких правил з pep8 ви досягли в відредагованій версі, наприклад\n",
    "```\n",
    "- додала пробіли навколо бінарного оператора\n",
    "- додала два порожні рядки між визначеннями функцій\n",
    "і тд\n",
    "```\n",
    "Також можна зазанчити використані правила коментарями по коду, а не окремим повідомленням.\n",
    "\n",
    "Відредагований код має виконувати весь той самий функціонал, але бути написаний відповідно до вимог до гарного коду на Python! Не забудьте запустити відредагований код, він має бути робочим."
   ]
  },
  {
   "cell_type": "markdown",
   "id": "e7fea147",
   "metadata": {
    "id": "e7fea147"
   },
   "source": [
    "Завдання 1."
   ]
  },
  {
   "cell_type": "code",
   "execution_count": 1,
   "id": "f63d84d7",
   "metadata": {
    "ExecuteTime": {
     "end_time": "2023-07-29T17:02:37.075783Z",
     "start_time": "2023-07-29T17:02:37.035259Z"
    },
    "id": "f63d84d7"
   },
   "outputs": [
    {
     "name": "stdout",
     "output_type": "stream",
     "text": [
      "Hello, John\n"
     ]
    },
    {
     "data": {
      "text/plain": [
       "None"
      ]
     },
     "metadata": {},
     "output_type": "display_data"
    },
    {
     "data": {
      "text/plain": [
       "8"
      ]
     },
     "metadata": {},
     "output_type": "display_data"
    }
   ],
   "source": [
    "def greet(name):print(f\"Hello, {name}\")\n",
    "def add(n1,n2):return n1+n2\n",
    "\n",
    "x = 5;y = 3\n",
    "display(greet(\"John\"),add(x,y))\n"
   ]
  },
  {
   "cell_type": "code",
   "execution_count": 6,
   "id": "41b7e672",
   "metadata": {
    "id": "41b7e672"
   },
   "outputs": [
    {
     "name": "stdout",
     "output_type": "stream",
     "text": [
      "Hello, John\n"
     ]
    },
    {
     "data": {
      "text/plain": [
       "None"
      ]
     },
     "metadata": {},
     "output_type": "display_data"
    },
    {
     "data": {
      "text/plain": [
       "8"
      ]
     },
     "metadata": {},
     "output_type": "display_data"
    }
   ],
   "source": [
    "def greet(name): #перенесла на наступний рядок тіло функції\n",
    "    print(f\"Hello, {name}\")\n",
    "\n",
    "def add(n1, n2):#перенесла на наступний рядок тіло функції та додата пробіл між аргументами\n",
    "    return n1 + n2 #додала пробіли навколо оператора +\n",
    "\n",
    "x = 5 #перенесла на ступний рядок визначення змінної у та прибрала ;\n",
    "y = 3\n",
    "\n",
    "display(greet(\"John\"), add(x, y)) #додала пробіли перед викликом функції add та  між параментрами в функції add\n",
    "#додатково розділила пустими рядками визначення фунцій"
   ]
  },
  {
   "cell_type": "markdown",
   "id": "cea88baf",
   "metadata": {
    "id": "cea88baf"
   },
   "source": [
    "Завдання 2."
   ]
  },
  {
   "cell_type": "code",
   "execution_count": 4,
   "id": "dfb6d2b5",
   "metadata": {
    "ExecuteTime": {
     "end_time": "2023-07-29T17:05:49.706098Z",
     "start_time": "2023-07-29T17:05:49.688255Z"
    },
    "id": "dfb6d2b5"
   },
   "outputs": [
    {
     "name": "stdout",
     "output_type": "stream",
     "text": [
      "Area: 78.53981633974483 Circumference: 31.41592653589793\n"
     ]
    }
   ],
   "source": [
    "from math import *\n",
    "def calcArea(r):return pi*r**2\n",
    "def calcCircumference(r):return 2*pi*r\n",
    "\n",
    "radius=5\n",
    "print(\"Area:\",calcArea(radius),\"Circumference:\",calcCircumference(radius))"
   ]
  },
  {
   "cell_type": "code",
   "execution_count": 7,
   "id": "df263672",
   "metadata": {
    "id": "df263672"
   },
   "outputs": [
    {
     "name": "stdout",
     "output_type": "stream",
     "text": [
      "Area: 78.53981633974483 Circumference: 31.41592653589793\n"
     ]
    }
   ],
   "source": [
    "import math #прибрала імпорт всього з бібілотеки math\n",
    "\n",
    "def calc_area(r): #перенесла на новиий рядок тіло функції та змінила назву функції у стилі snake_case\n",
    "    return pi * r ** 2  #додала пробіли між операторами\n",
    "    \n",
    "def calc_circumference(r):#перенесла на новиий рядок тіло функції та змінила назву функції у стилі snake_case\n",
    "    return 2 * pi * r#додала пробіли між операторами\n",
    "\n",
    "radius = 5\n",
    "print(\"Area:\", calc_area(radius), \"Circumference:\", calc_circumference(radius)) #додала пробіли між викликами функцій та ряжками\n",
    "#додатково розділила пустими рядками визначення фунцій"
   ]
  },
  {
   "cell_type": "markdown",
   "id": "1fd691b7",
   "metadata": {
    "id": "1fd691b7"
   },
   "source": [
    "Завдання 3."
   ]
  },
  {
   "cell_type": "code",
   "execution_count": null,
   "id": "1d5acb2d",
   "metadata": {
    "ExecuteTime": {
     "end_time": "2023-07-29T17:06:18.612622Z",
     "start_time": "2023-07-29T17:06:18.598477Z"
    },
    "id": "1d5acb2d"
   },
   "outputs": [],
   "source": [
    "class animal: pass\n",
    "class dog(animal):\n",
    "    def __init__(self,name):\n",
    "        self.name=name\n",
    "        self.type='Dog'"
   ]
  },
  {
   "cell_type": "code",
   "execution_count": null,
   "id": "0d4b2b8a",
   "metadata": {
    "id": "0d4b2b8a"
   },
   "outputs": [],
   "source": [
    "class Animal: #змінила назву класу, так щоб вона починалася з великої літери та перенесла тіло класу на новий рядок\n",
    "    pass\n",
    "    \n",
    "class Dog(animal): #змінила назву класу, так щоб вона починалася з великої літери та перенесла тіло класу на новий рядок\n",
    "    def __init__(self, name):#додала пробіл між аргументами методу\n",
    "        self.name = name #додала пробіл навколо =\n",
    "        self.type = 'Dog' #додала пробіл навколо ="
   ]
  },
  {
   "cell_type": "markdown",
   "id": "7d1d4f5d",
   "metadata": {
    "id": "7d1d4f5d"
   },
   "source": [
    "Завдання 4."
   ]
  },
  {
   "cell_type": "code",
   "execution_count": 13,
   "id": "a91c1cc4",
   "metadata": {
    "ExecuteTime": {
     "end_time": "2023-07-29T17:06:47.180263Z",
     "start_time": "2023-07-29T17:06:47.173617Z"
    },
    "id": "a91c1cc4"
   },
   "outputs": [
    {
     "name": "stdout",
     "output_type": "stream",
     "text": [
      "5\n",
      "6\n",
      "7\n",
      "8\n",
      "9\n"
     ]
    }
   ],
   "source": [
    "list=[1,2,3,4,5]\n",
    "for i in range(len(list)):print(list[i])"
   ]
  },
  {
   "cell_type": "code",
   "execution_count": 16,
   "id": "c0f9541a",
   "metadata": {
    "id": "c0f9541a"
   },
   "outputs": [
    {
     "name": "stdout",
     "output_type": "stream",
     "text": [
      "1\n",
      "2\n",
      "3\n",
      "4\n",
      "5\n"
     ]
    }
   ],
   "source": [
    "list = [1, 2, 3, 4, 5] #додала пробіли навколо = та між кожним елементом списку\n",
    "\n",
    "[print(i) for i in list]; #перебір циклу з використанням list comprehension"
   ]
  },
  {
   "cell_type": "markdown",
   "id": "8b0487e6",
   "metadata": {
    "id": "8b0487e6"
   },
   "source": [
    "5.У вас є DataFrame df, що представляє результати тестів студентів з математики, англійської мови та історії. Поточний код обчислює середній бал для кожного студента шляхом ітерації за рядками DataFrame за допомогою iterrows().\n",
    "\n",
    "Ваше завдання полягає в тому, щоб змінити код так, аби уникнути використання iterrows() і замість цього застосувати більш ефективне та читабельне рішення відповідно до правил, озвучених у лекції. Рефакторинг треба зробити лише частині, де рахуються середні, імпорт і визначення датафрейму лишаємо без змін."
   ]
  },
  {
   "cell_type": "code",
   "execution_count": 25,
   "id": "5b3cc648",
   "metadata": {
    "ExecuteTime": {
     "end_time": "2023-07-29T17:15:55.926882Z",
     "start_time": "2023-07-29T17:15:55.686415Z"
    },
    "id": "5b3cc648"
   },
   "outputs": [
    {
     "data": {
      "text/html": [
       "<div>\n",
       "<style scoped>\n",
       "    .dataframe tbody tr th:only-of-type {\n",
       "        vertical-align: middle;\n",
       "    }\n",
       "\n",
       "    .dataframe tbody tr th {\n",
       "        vertical-align: top;\n",
       "    }\n",
       "\n",
       "    .dataframe thead th {\n",
       "        text-align: right;\n",
       "    }\n",
       "</style>\n",
       "<table border=\"1\" class=\"dataframe\">\n",
       "  <thead>\n",
       "    <tr style=\"text-align: right;\">\n",
       "      <th></th>\n",
       "      <th>student</th>\n",
       "      <th>math_score</th>\n",
       "      <th>english_score</th>\n",
       "      <th>history_score</th>\n",
       "    </tr>\n",
       "  </thead>\n",
       "  <tbody>\n",
       "    <tr>\n",
       "      <th>0</th>\n",
       "      <td>Alice</td>\n",
       "      <td>89</td>\n",
       "      <td>92</td>\n",
       "      <td>84</td>\n",
       "    </tr>\n",
       "    <tr>\n",
       "      <th>1</th>\n",
       "      <td>Bob</td>\n",
       "      <td>94</td>\n",
       "      <td>88</td>\n",
       "      <td>92</td>\n",
       "    </tr>\n",
       "    <tr>\n",
       "      <th>2</th>\n",
       "      <td>Charlie</td>\n",
       "      <td>77</td>\n",
       "      <td>79</td>\n",
       "      <td>81</td>\n",
       "    </tr>\n",
       "    <tr>\n",
       "      <th>3</th>\n",
       "      <td>David</td>\n",
       "      <td>85</td>\n",
       "      <td>85</td>\n",
       "      <td>89</td>\n",
       "    </tr>\n",
       "  </tbody>\n",
       "</table>\n",
       "</div>"
      ],
      "text/plain": [
       "   student  math_score  english_score  history_score\n",
       "0    Alice          89             92             84\n",
       "1      Bob          94             88             92\n",
       "2  Charlie          77             79             81\n",
       "3    David          85             85             89"
      ]
     },
     "execution_count": 25,
     "metadata": {},
     "output_type": "execute_result"
    }
   ],
   "source": [
    "import pandas as pd\n",
    "\n",
    "df = pd.DataFrame({\n",
    "    'student': ['Alice', 'Bob', 'Charlie', 'David'],\n",
    "    'math_score': [89, 94, 77, 85],\n",
    "    'english_score': [92, 88, 79, 85],\n",
    "    'history_score': [84, 92, 81, 89]\n",
    "})\n",
    "df"
   ]
  },
  {
   "cell_type": "code",
   "execution_count": null,
   "id": "f2dc0a86-cb2e-4d1b-a038-587d657250f0",
   "metadata": {},
   "outputs": [],
   "source": [
    "averages = []\n",
    "for _, row in df.iterrows():\n",
    "    averages.append((row['math_score'] + row['english_score'] + row['history_score']) / 3)\n",
    "\n",
    "df['average_score'] = averages"
   ]
  },
  {
   "cell_type": "code",
   "execution_count": 27,
   "id": "74cea4fc",
   "metadata": {
    "id": "74cea4fc"
   },
   "outputs": [
    {
     "data": {
      "text/html": [
       "<div>\n",
       "<style scoped>\n",
       "    .dataframe tbody tr th:only-of-type {\n",
       "        vertical-align: middle;\n",
       "    }\n",
       "\n",
       "    .dataframe tbody tr th {\n",
       "        vertical-align: top;\n",
       "    }\n",
       "\n",
       "    .dataframe thead th {\n",
       "        text-align: right;\n",
       "    }\n",
       "</style>\n",
       "<table border=\"1\" class=\"dataframe\">\n",
       "  <thead>\n",
       "    <tr style=\"text-align: right;\">\n",
       "      <th></th>\n",
       "      <th>student</th>\n",
       "      <th>math_score</th>\n",
       "      <th>english_score</th>\n",
       "      <th>history_score</th>\n",
       "      <th>average_score</th>\n",
       "    </tr>\n",
       "  </thead>\n",
       "  <tbody>\n",
       "    <tr>\n",
       "      <th>0</th>\n",
       "      <td>Alice</td>\n",
       "      <td>89</td>\n",
       "      <td>92</td>\n",
       "      <td>84</td>\n",
       "      <td>88.333333</td>\n",
       "    </tr>\n",
       "    <tr>\n",
       "      <th>1</th>\n",
       "      <td>Bob</td>\n",
       "      <td>94</td>\n",
       "      <td>88</td>\n",
       "      <td>92</td>\n",
       "      <td>91.333333</td>\n",
       "    </tr>\n",
       "    <tr>\n",
       "      <th>2</th>\n",
       "      <td>Charlie</td>\n",
       "      <td>77</td>\n",
       "      <td>79</td>\n",
       "      <td>81</td>\n",
       "      <td>79.000000</td>\n",
       "    </tr>\n",
       "    <tr>\n",
       "      <th>3</th>\n",
       "      <td>David</td>\n",
       "      <td>85</td>\n",
       "      <td>85</td>\n",
       "      <td>89</td>\n",
       "      <td>86.333333</td>\n",
       "    </tr>\n",
       "  </tbody>\n",
       "</table>\n",
       "</div>"
      ],
      "text/plain": [
       "   student  math_score  english_score  history_score  average_score\n",
       "0    Alice          89             92             84      88.333333\n",
       "1      Bob          94             88             92      91.333333\n",
       "2  Charlie          77             79             81      79.000000\n",
       "3    David          85             85             89      86.333333"
      ]
     },
     "execution_count": 27,
     "metadata": {},
     "output_type": "execute_result"
    }
   ],
   "source": [
    "df['average_score'] = df.iloc[:, 1:].mean(axis=1)\n",
    "df"
   ]
  },
  {
   "cell_type": "markdown",
   "id": "34fb1db9",
   "metadata": {
    "id": "34fb1db9"
   },
   "source": [
    "6.У Вас є великий DataFrame df, що представляє транзакції продажу в магазині. Цей DataFrame містить понад 1 мільйон рядків і кілька стовпців, зокрема «product_name», «product_category», «product_price» і «transaction_date».\n",
    "\n",
    "І «product_name», і «product_category» є рядками, що представляють численні, але обмежені унікальні назви продуктів і категорії відповідно.\n",
    "\n",
    "Напишіть код для ефективного перетворення стовпців «product_name» і «product_category» на категорійний тип для ефективного використання пам’яті.\n",
    "Спробуйте вирішити це завдання, мінімізуючи використання пам'яті та зберігаючи читабельність коду. Крім того, виміряйте використання пам’яті до та після перетворення, щоб продемонструвати підвищення ефективності.\n",
    "\n",
    "Порівняйте кількість памʼяті, яку займає наданий набір даних і новий, створений Вами. В лекції був приклад. В скільки разів менше памʼяті займає новий датафрейм?"
   ]
  },
  {
   "cell_type": "code",
   "execution_count": 54,
   "id": "d4926909",
   "metadata": {
    "ExecuteTime": {
     "end_time": "2023-07-29T21:19:30.009527Z",
     "start_time": "2023-07-29T21:19:29.595210Z"
    },
    "id": "d4926909"
   },
   "outputs": [],
   "source": [
    "import pandas as pd\n",
    "import numpy as np\n",
    "\n",
    "np.random.seed(0)\n",
    "\n",
    "products = ['apple', 'banana', 'cherry', 'dates', 'elderberry']\n",
    "categories = ['fruit', 'fruit', 'fruit', 'fruit', 'fruit']\n",
    "\n",
    "N_ROWS = 10**6\n",
    "df = pd.DataFrame({\n",
    "    'product_name': np.random.choice(products, N_ROWS),\n",
    "    'product_category': np.random.choice(categories, N_ROWS),\n",
    "    'product_price': np.random.uniform(1, 10, N_ROWS),\n",
    "    'transaction_date': pd.date_range(start='1/1/2000', periods=N_ROWS, freq='h')\n",
    "})\n"
   ]
  },
  {
   "cell_type": "code",
   "execution_count": 55,
   "id": "a386338a-02b2-4702-9f85-a710ac515080",
   "metadata": {},
   "outputs": [
    {
     "data": {
      "text/plain": [
       "32000000"
      ]
     },
     "execution_count": 55,
     "metadata": {},
     "output_type": "execute_result"
    }
   ],
   "source": [
    "memory_before = df.memory_usage(index=False).sum()\n",
    "memory_before"
   ]
  },
  {
   "cell_type": "code",
   "execution_count": 56,
   "id": "5442928b-ce0e-44ad-ab59-afcea4c0c762",
   "metadata": {},
   "outputs": [],
   "source": [
    "# Перетворення product_name та product_category у категорійний тип\n",
    "#df['product_name'] = df['prboduct_name'].astype('category')\n",
    "#df['product_category'] = df['product_category'].astype('category')\n",
    "\n",
    "df['product_name'] = pd.Categorical(df['product_name'])\n",
    "df['product_category'] = pd.Categorical(df['product_category'])"
   ]
  },
  {
   "cell_type": "code",
   "execution_count": 57,
   "id": "c98e4b16-5d82-4e62-b00e-904cc7f307bb",
   "metadata": {},
   "outputs": [
    {
     "data": {
      "text/plain": [
       "18000328"
      ]
     },
     "execution_count": 57,
     "metadata": {},
     "output_type": "execute_result"
    }
   ],
   "source": [
    "memory_after = df.memory_usage(index=False).sum()\n",
    "memory_after"
   ]
  },
  {
   "cell_type": "code",
   "execution_count": 58,
   "id": "5fc27b4a-6a04-4c2e-964d-5602d55cfa27",
   "metadata": {},
   "outputs": [
    {
     "name": "stdout",
     "output_type": "stream",
     "text": [
      "Маємо зниження витрат памʼяті на 43.75% !\n"
     ]
    }
   ],
   "source": [
    "print(f\"Маємо зниження витрат памʼяті на {round((1 - memory_after / memory_before) * 100,2)}% !\")"
   ]
  },
  {
   "cell_type": "markdown",
   "id": "131cc08d",
   "metadata": {
    "id": "131cc08d"
   },
   "source": [
    "7.В цьому завданні кілька пунктів. Треба виконати усі послідовно.   \n",
    "    7.1. Завантажте дані у pandas dataframe з файла `ecommerce_data.csv`. Обовʼязково при завантаженні вкажіть параметр `encoding = 'ISO-8859-1'`, без нього буде помилка.  \n",
    "    7.2. Заповніть пропущені значення в колонці CustomerID на -1 та перетворіть тип цієї колонки на str, адже зараз вона типу float, а це не правильний тип даних для ідентифікатора клієнта.  \n",
    "    7.3. З допомогою бібліотеки sweetviz побудуйте html звіт, який порівнює дані для країни \"Germany\" і країни \"France\". У Вас можуть виникнути багато попереджень (Warning), їх рекомендую вимкнути наступним шматком коду   \n",
    "    \n",
    "   \n",
    "    import warnings\n",
    "\n",
    "    with warnings.catch_warnings(record=True):\n",
    "        # your code\n",
    "    \n",
    "    \n",
    "   7.4.Напишіть 5 відмінностей для двох зазначених країн на основі побудованого звіту, без виконання додаткового аналізу іншими інструментами."
   ]
  },
  {
   "cell_type": "code",
   "execution_count": 67,
   "id": "17200e77",
   "metadata": {
    "id": "17200e77"
   },
   "outputs": [
    {
     "data": {
      "text/html": [
       "<div>\n",
       "<style scoped>\n",
       "    .dataframe tbody tr th:only-of-type {\n",
       "        vertical-align: middle;\n",
       "    }\n",
       "\n",
       "    .dataframe tbody tr th {\n",
       "        vertical-align: top;\n",
       "    }\n",
       "\n",
       "    .dataframe thead th {\n",
       "        text-align: right;\n",
       "    }\n",
       "</style>\n",
       "<table border=\"1\" class=\"dataframe\">\n",
       "  <thead>\n",
       "    <tr style=\"text-align: right;\">\n",
       "      <th></th>\n",
       "      <th>InvoiceNo</th>\n",
       "      <th>StockCode</th>\n",
       "      <th>Description</th>\n",
       "      <th>Quantity</th>\n",
       "      <th>InvoiceDate</th>\n",
       "      <th>UnitPrice</th>\n",
       "      <th>CustomerID</th>\n",
       "      <th>Country</th>\n",
       "    </tr>\n",
       "  </thead>\n",
       "  <tbody>\n",
       "    <tr>\n",
       "      <th>0</th>\n",
       "      <td>536365</td>\n",
       "      <td>85123A</td>\n",
       "      <td>WHITE HANGING HEART T-LIGHT HOLDER</td>\n",
       "      <td>6</td>\n",
       "      <td>12/1/2010 8:26</td>\n",
       "      <td>2.55</td>\n",
       "      <td>17850.0</td>\n",
       "      <td>United Kingdom</td>\n",
       "    </tr>\n",
       "    <tr>\n",
       "      <th>1</th>\n",
       "      <td>536365</td>\n",
       "      <td>71053</td>\n",
       "      <td>WHITE METAL LANTERN</td>\n",
       "      <td>6</td>\n",
       "      <td>12/1/2010 8:26</td>\n",
       "      <td>3.39</td>\n",
       "      <td>17850.0</td>\n",
       "      <td>United Kingdom</td>\n",
       "    </tr>\n",
       "    <tr>\n",
       "      <th>2</th>\n",
       "      <td>536365</td>\n",
       "      <td>84406B</td>\n",
       "      <td>CREAM CUPID HEARTS COAT HANGER</td>\n",
       "      <td>8</td>\n",
       "      <td>12/1/2010 8:26</td>\n",
       "      <td>2.75</td>\n",
       "      <td>17850.0</td>\n",
       "      <td>United Kingdom</td>\n",
       "    </tr>\n",
       "    <tr>\n",
       "      <th>3</th>\n",
       "      <td>536365</td>\n",
       "      <td>84029G</td>\n",
       "      <td>KNITTED UNION FLAG HOT WATER BOTTLE</td>\n",
       "      <td>6</td>\n",
       "      <td>12/1/2010 8:26</td>\n",
       "      <td>3.39</td>\n",
       "      <td>17850.0</td>\n",
       "      <td>United Kingdom</td>\n",
       "    </tr>\n",
       "    <tr>\n",
       "      <th>4</th>\n",
       "      <td>536365</td>\n",
       "      <td>84029E</td>\n",
       "      <td>RED WOOLLY HOTTIE WHITE HEART.</td>\n",
       "      <td>6</td>\n",
       "      <td>12/1/2010 8:26</td>\n",
       "      <td>3.39</td>\n",
       "      <td>17850.0</td>\n",
       "      <td>United Kingdom</td>\n",
       "    </tr>\n",
       "  </tbody>\n",
       "</table>\n",
       "</div>"
      ],
      "text/plain": [
       "  InvoiceNo StockCode                          Description  Quantity  \\\n",
       "0    536365    85123A   WHITE HANGING HEART T-LIGHT HOLDER         6   \n",
       "1    536365     71053                  WHITE METAL LANTERN         6   \n",
       "2    536365    84406B       CREAM CUPID HEARTS COAT HANGER         8   \n",
       "3    536365    84029G  KNITTED UNION FLAG HOT WATER BOTTLE         6   \n",
       "4    536365    84029E       RED WOOLLY HOTTIE WHITE HEART.         6   \n",
       "\n",
       "      InvoiceDate  UnitPrice  CustomerID         Country  \n",
       "0  12/1/2010 8:26       2.55     17850.0  United Kingdom  \n",
       "1  12/1/2010 8:26       3.39     17850.0  United Kingdom  \n",
       "2  12/1/2010 8:26       2.75     17850.0  United Kingdom  \n",
       "3  12/1/2010 8:26       3.39     17850.0  United Kingdom  \n",
       "4  12/1/2010 8:26       3.39     17850.0  United Kingdom  "
      ]
     },
     "execution_count": 67,
     "metadata": {},
     "output_type": "execute_result"
    }
   ],
   "source": [
    "df = pd.read_csv('./data/ecommerce_data.csv', encoding = 'ISO-8859-1')\n",
    "df.head()"
   ]
  },
  {
   "cell_type": "code",
   "execution_count": 89,
   "id": "a6c4f7bc-febb-41eb-95b0-8cd106ca9aff",
   "metadata": {},
   "outputs": [],
   "source": [
    "df['CustomerID'] = df['CustomerID'].fillna(-1).astype(str)"
   ]
  },
  {
   "cell_type": "code",
   "execution_count": 92,
   "id": "e0a491bd-56ca-4192-9632-dfbfc0ab519a",
   "metadata": {
    "scrolled": true
   },
   "outputs": [
    {
     "name": "stdout",
     "output_type": "stream",
     "text": [
      "Requirement already satisfied: sweetviz in ./tutorial-env/lib/python3.8/site-packages (2.3.1)\n",
      "Requirement already satisfied: scipy>=1.3.2 in ./tutorial-env/lib/python3.8/site-packages (from sweetviz) (1.10.1)\n",
      "Requirement already satisfied: pandas!=1.0.0,!=1.0.1,!=1.0.2,>=0.25.3 in ./tutorial-env/lib/python3.8/site-packages (from sweetviz) (2.0.3)\n",
      "Requirement already satisfied: importlib-resources>=1.2.0 in ./tutorial-env/lib/python3.8/site-packages (from sweetviz) (6.4.5)\n",
      "Requirement already satisfied: matplotlib>=3.1.3 in ./tutorial-env/lib/python3.8/site-packages (from sweetviz) (3.7.5)\n",
      "Requirement already satisfied: numpy>=1.16.0 in ./tutorial-env/lib/python3.8/site-packages (from sweetviz) (1.24.4)\n",
      "Requirement already satisfied: tqdm>=4.43.0 in ./tutorial-env/lib/python3.8/site-packages (from sweetviz) (4.67.1)\n",
      "Requirement already satisfied: jinja2>=2.11.1 in ./tutorial-env/lib/python3.8/site-packages (from sweetviz) (3.1.4)\n",
      "Requirement already satisfied: python-dateutil>=2.8.2 in ./tutorial-env/lib/python3.8/site-packages (from pandas!=1.0.0,!=1.0.1,!=1.0.2,>=0.25.3->sweetviz) (2.9.0.post0)\n",
      "Requirement already satisfied: tzdata>=2022.1 in ./tutorial-env/lib/python3.8/site-packages (from pandas!=1.0.0,!=1.0.1,!=1.0.2,>=0.25.3->sweetviz) (2024.2)\n",
      "Requirement already satisfied: pytz>=2020.1 in ./tutorial-env/lib/python3.8/site-packages (from pandas!=1.0.0,!=1.0.1,!=1.0.2,>=0.25.3->sweetviz) (2024.2)\n",
      "Requirement already satisfied: zipp>=3.1.0; python_version < \"3.10\" in ./tutorial-env/lib/python3.8/site-packages (from importlib-resources>=1.2.0->sweetviz) (3.20.2)\n",
      "Requirement already satisfied: cycler>=0.10 in ./tutorial-env/lib/python3.8/site-packages (from matplotlib>=3.1.3->sweetviz) (0.12.1)\n",
      "Requirement already satisfied: kiwisolver>=1.0.1 in ./tutorial-env/lib/python3.8/site-packages (from matplotlib>=3.1.3->sweetviz) (1.4.7)\n",
      "Requirement already satisfied: pillow>=6.2.0 in ./tutorial-env/lib/python3.8/site-packages (from matplotlib>=3.1.3->sweetviz) (10.4.0)\n",
      "Requirement already satisfied: contourpy>=1.0.1 in ./tutorial-env/lib/python3.8/site-packages (from matplotlib>=3.1.3->sweetviz) (1.1.1)\n",
      "Requirement already satisfied: packaging>=20.0 in ./tutorial-env/lib/python3.8/site-packages (from matplotlib>=3.1.3->sweetviz) (24.1)\n",
      "Requirement already satisfied: pyparsing>=2.3.1 in ./tutorial-env/lib/python3.8/site-packages (from matplotlib>=3.1.3->sweetviz) (3.1.4)\n",
      "Requirement already satisfied: fonttools>=4.22.0 in ./tutorial-env/lib/python3.8/site-packages (from matplotlib>=3.1.3->sweetviz) (4.54.1)\n",
      "Requirement already satisfied: MarkupSafe>=2.0 in ./tutorial-env/lib/python3.8/site-packages (from jinja2>=2.11.1->sweetviz) (2.1.5)\n",
      "Requirement already satisfied: six>=1.5 in ./tutorial-env/lib/python3.8/site-packages (from python-dateutil>=2.8.2->pandas!=1.0.0,!=1.0.1,!=1.0.2,>=0.25.3->sweetviz) (1.16.0)\n"
     ]
    }
   ],
   "source": [
    "! pip install sweetviz"
   ]
  },
  {
   "cell_type": "code",
   "execution_count": 95,
   "id": "3840732d-7083-4ea9-bfb3-83fa9ea5bc23",
   "metadata": {
    "scrolled": true
   },
   "outputs": [
    {
     "name": "stderr",
     "output_type": "stream",
     "text": [
      "Done! Use 'show' commands to display/save.   |██████████████████████████████████████████████████████████████████████████████████████████████████████████████████████████████████████████████████████████████████████████████████████████████████████████████████████████████████████| [100%]   00:00 -> (00:00 left)"
     ]
    },
    {
     "name": "stdout",
     "output_type": "stream",
     "text": [
      "Report comparison_report.html was generated! NOTEBOOK/COLAB USERS: the web browser MAY not pop up, regardless, the report IS saved in your notebook/colab files.\n"
     ]
    },
    {
     "name": "stderr",
     "output_type": "stream",
     "text": [
      "\n"
     ]
    }
   ],
   "source": [
    "import sweetviz as sv\n",
    "import warnings\n",
    "\n",
    "df_germany = df[df['Country'] == 'Germany']\n",
    "df_france = df[df['Country'] == 'France']\n",
    "\n",
    "with warnings.catch_warnings(record=True):\n",
    "    report = sv.compare([df_germany, \"Germany\"], [df_france, \"France\"])\n",
    "\n",
    "    report.show_html(\"comparison_report.html\")"
   ]
  },
  {
   "cell_type": "markdown",
   "id": "046032bc-f99f-4c9c-a19d-4d9c57309cbf",
   "metadata": {},
   "source": [
    "1. Кількість даних для Німеччини більша, ніж для Франції\n",
    "2. На графіку асоціацій можна побачити що є рівниця в значеннях для країн в категоріальних асоціаціях\n",
    "3. Cпостерігаються відмінності в полі Quantity для країн\n",
    "4. Поле Quantity це єдине поле у якому distinct значень для Франції більше\n",
    "5. "
   ]
  },
  {
   "cell_type": "markdown",
   "id": "07ae375a",
   "metadata": {
    "ExecuteTime": {
     "end_time": "2023-07-30T18:55:42.650457Z",
     "start_time": "2023-07-30T18:55:42.635729Z"
    },
    "id": "07ae375a"
   },
   "source": [
    "8.З допомогою ChatGPT виявіть, чи є та які помилки в наступному коді.  \n",
    "Попросіть після цього переписати код із дотриманням PEP8. Проаналізуйте результат. Чи справді ChatGPT виправив всі стилістичні помилки? Якщо ні, напишіть йому ще кілька запитів, аби код відповідав вимогам PEP8.  \n",
    "Вставте фінальну версію коду з чату у ноутбук та запустіть на заданому списку. Має вертатись 50.  \n",
    "Напишіть, які промпти (інструкції) при зверненні до ChatGPT ви застосували та додайте скріншот(-и) з промптами та відповідями чата.  \n",
    "Якщо зробили висновки при виконанні цього завдання, то діліться також :)\n",
    "\n",
    "**ЯК ВСТАВИТИ СКРІНШОТ в Jupyter Notebook** :\n",
    "1. Створіть нову Markdown клітинку\n",
    "2. В новоствореній клітинці обираєте в меню Jupyter Notebook Edit -> Insert Image\n",
    "3. Обираєте картинку\n",
    "4. В клітинці має зʼявитись текст, який містить картинку. Запустіть клітинку.\n",
    "\n",
    "Або можна просто перетягнути картинку в Markdown клітинку."
   ]
  },
  {
   "cell_type": "code",
   "execution_count": 96,
   "id": "a5c010c4",
   "metadata": {
    "ExecuteTime": {
     "end_time": "2023-07-30T19:16:20.977219Z",
     "start_time": "2023-07-30T19:16:20.973688Z"
    },
    "id": "a5c010c4"
   },
   "outputs": [],
   "source": [
    "def CalculateVariance(nl):\n",
    "    sum_list = 0\n",
    "    for n in nl:\n",
    "        sum_list = sum_list + n\n",
    "    mean = sum_list / len(nl)\n",
    "    sum_squares = 0\n",
    "    for n in nl:\n",
    "        sum_squares = sum_squares + n**2\n",
    "    mean_squares = sum_squares / len(nl)\n",
    "    return mean_squares"
   ]
  },
  {
   "cell_type": "code",
   "execution_count": 97,
   "id": "24bb3f81",
   "metadata": {
    "ExecuteTime": {
     "end_time": "2023-07-30T19:16:09.201841Z",
     "start_time": "2023-07-30T19:16:09.199174Z"
    },
    "id": "24bb3f81"
   },
   "outputs": [],
   "source": [
    "input_list = [75, 80, 85, 90, 95]"
   ]
  },
  {
   "cell_type": "code",
   "execution_count": 98,
   "id": "7af79a73-2c61-4926-91df-d6b2c90c20e2",
   "metadata": {},
   "outputs": [
    {
     "data": {
      "text/plain": [
       "7275.0"
      ]
     },
     "execution_count": 98,
     "metadata": {},
     "output_type": "execute_result"
    }
   ],
   "source": [
    "CalculateVariance(input_list)"
   ]
  },
  {
   "cell_type": "code",
   "execution_count": 101,
   "id": "fa33733a-49a6-43f5-a5bd-4d909cd9e2a5",
   "metadata": {},
   "outputs": [],
   "source": [
    "def calculate_variance(numbers):\n",
    "    mean = sum(numbers) / len(numbers)\n",
    "    return sum((n - mean) ** 2 for n in numbers) / len(numbers)"
   ]
  },
  {
   "cell_type": "code",
   "execution_count": 102,
   "id": "c187d230-913c-4db5-acaf-17463e5a95c2",
   "metadata": {},
   "outputs": [
    {
     "data": {
      "text/plain": [
       "50.0"
      ]
     },
     "execution_count": 102,
     "metadata": {},
     "output_type": "execute_result"
    }
   ],
   "source": [
    "calculate_variance(input_list)"
   ]
  },
  {
   "attachments": {
    "91821ec9-9bad-4274-80a5-e98d07486d87.png": {
     "image/png": "[encoded data removed]"
    }
   },
   "cell_type": "markdown",
   "id": "fa73b78b-6ef5-4a64-afd3-b3e3d390647f",
   "metadata": {},
   "source": [
    "![image.png](attachment:91821ec9-9bad-4274-80a5-e98d07486d87.png)"
   ]
  },
  {
   "attachments": {
    "ef3ca76d-8f02-4548-ba76-2e2aa8744501.png": {
     "image/png": "[encoded data removed]"
    }
   },
   "cell_type": "markdown",
   "id": "97929d88-b2a0-4be1-91d8-a747d70a776d",
   "metadata": {},
   "source": [
    "![image.png](attachment:ef3ca76d-8f02-4548-ba76-2e2aa8744501.png)"
   ]
  },
  {
   "cell_type": "code",
   "execution_count": null,
   "id": "e7b7153c-0f6c-4b35-bdb6-351a103331fb",
   "metadata": {},
   "outputs": [],
   "source": []
  }
 ],
 "metadata": {
  "colab": {
   "provenance": []
  },
  "kernelspec": {
   "display_name": "Python (tutorial-env)",
   "language": "python",
   "name": "tutorial-env"
  },
  "language_info": {
   "codemirror_mode": {
    "name": "ipython",
    "version": 3
   },
   "file_extension": ".py",
   "mimetype": "text/x-python",
   "name": "python",
   "nbconvert_exporter": "python",
   "pygments_lexer": "ipython3",
   "version": "3.8.10"
  },
  "toc": {
   "base_numbering": 1,
   "nav_menu": {},
   "number_sections": true,
   "sideBar": true,
   "skip_h1_title": false,
   "title_cell": "Table of Contents",
   "title_sidebar": "Contents",
   "toc_cell": false,
   "toc_position": {},
   "toc_section_display": true,
   "toc_window_display": false
  }
 },
 "nbformat": 4,
 "nbformat_minor": 5
}
